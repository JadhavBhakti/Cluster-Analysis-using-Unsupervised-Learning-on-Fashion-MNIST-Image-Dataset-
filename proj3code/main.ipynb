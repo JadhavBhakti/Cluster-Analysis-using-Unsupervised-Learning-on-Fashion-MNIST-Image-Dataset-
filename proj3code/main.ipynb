{
 "cells": [
  {
   "cell_type": "markdown",
   "metadata": {
    "colab_type": "text",
    "id": "lhfMcSIMrVwV"
   },
   "source": [
    "# KMeans Clustering"
   ]
  },
  {
   "cell_type": "markdown",
   "metadata": {
    "colab_type": "text",
    "id": "LbCigZtNZZgl"
   },
   "source": [
    "Loading Dataset"
   ]
  },
  {
   "cell_type": "code",
   "execution_count": 15,
   "metadata": {
    "colab": {
     "base_uri": "https://localhost:8080/",
     "height": 246
    },
    "colab_type": "code",
    "id": "d44TznbgZZgm",
    "outputId": "e342143c-c184-468e-a519-8c2b5ffd5bda"
   },
   "outputs": [],
   "source": [
    "import tensorflow as tf\n",
    "import numpy as np\n",
    "import matplotlib.pyplot as plt\n",
    "import sklearn\n",
    "from sklearn.metrics import accuracy_score,normalized_mutual_info_score,adjusted_mutual_info_score\n",
    "from sklearn.cluster import KMeans\n",
    "from sklearn.metrics import confusion_matrix\n",
    "\n",
    "(x_train, y_train), (x_test, y_test) = tf.keras.datasets.fashion_mnist.load_data()"
   ]
  },
  {
   "cell_type": "markdown",
   "metadata": {
    "colab_type": "text",
    "id": "puCu1MgoA5iS"
   },
   "source": [
    "Preprocessing and Normalization"
   ]
  },
  {
   "cell_type": "code",
   "execution_count": 16,
   "metadata": {
    "colab": {
     "base_uri": "https://localhost:8080/",
     "height": 163
    },
    "colab_type": "code",
    "id": "DMR6VnLjsRVc",
    "outputId": "c16c4e31-3157-40f0-93a4-bb14e0d322f5"
   },
   "outputs": [],
   "source": [
    "nsamples, nx, ny = x_train.shape\n",
    "x_train = x_train.reshape((nsamples,nx*ny))\n",
    "\n",
    "\n",
    "nsamples, nx, ny = x_test.shape\n",
    "x_test = x_test.reshape((nsamples,nx*ny))\n",
    "\n",
    "\n",
    "x_train = x_train/255\n",
    "x_test = x_test/255"
   ]
  },
  {
   "cell_type": "markdown",
   "metadata": {
    "colab_type": "text",
    "id": "0MAtMFk2NrhI"
   },
   "source": [
    "Mapping cluster to label"
   ]
  },
  {
   "cell_type": "code",
   "execution_count": 17,
   "metadata": {
    "colab": {
     "base_uri": "https://localhost:8080/",
     "height": 581
    },
    "colab_type": "code",
    "id": "1JYDs26TNtCo",
    "outputId": "4bdd37b1-adb9-4192-e066-8df1c022fcf1"
   },
   "outputs": [
    {
     "name": "stdout",
     "output_type": "stream",
     "text": [
      "9   0\n",
      "0   1\n",
      "0   2\n",
      "3   3\n",
      "0   4\n",
      "2   5\n",
      "7   6\n",
      "2   7\n",
      "5   8\n",
      "5   9\n",
      "0   10\n",
      "9   11\n",
      "5   12\n",
      "5   13\n",
      "7   14\n",
      "9   15\n",
      "1   16\n",
      "0   17\n",
      "6   18\n",
      "4   19\n",
      "3   20\n",
      "1   21\n",
      "4   22\n",
      "8   23\n",
      "4   24\n",
      "3   25\n",
      "0   26\n",
      "2   27\n",
      "4   28\n",
      "4   29\n",
      "5   30\n"
     ]
    }
   ],
   "source": [
    "for counter in range(len(y_train)):\n",
    "  print(y_train[counter],\" \",counter)\n",
    "  if counter == 30:\n",
    "    break"
   ]
  },
  {
   "cell_type": "code",
   "execution_count": 18,
   "metadata": {
    "colab": {},
    "colab_type": "code",
    "id": "2J-MlAM9N9c8"
   },
   "outputs": [],
   "source": [
    "cluster_array = [x_train[1], x_train[16], x_train[27], x_train[20], x_train[29], x_train[13], x_train[18], x_train[6], x_train[23], x_train[0]]"
   ]
  },
  {
   "cell_type": "markdown",
   "metadata": {
    "colab_type": "text",
    "id": "ZBUm1temBNww"
   },
   "source": [
    "KMeans Clustering"
   ]
  },
  {
   "cell_type": "code",
   "execution_count": 26,
   "metadata": {
    "colab": {
     "base_uri": "https://localhost:8080/",
     "height": 35
    },
    "colab_type": "code",
    "id": "pnNZaTk_sjen",
    "outputId": "422fb91d-e881-4a7b-c1b1-f1e5aaaf61a5"
   },
   "outputs": [],
   "source": [
    "n_clusters = len(np.unique(y_train))\n",
    "kmeans = KMeans(n_clusters = n_clusters, random_state=4, init = np.array(cluster_array))"
   ]
  },
  {
   "cell_type": "code",
   "execution_count": 20,
   "metadata": {
    "colab": {
     "base_uri": "https://localhost:8080/",
     "height": 255
    },
    "colab_type": "code",
    "id": "ioA-M8gmtBCu",
    "outputId": "c554fc6c-2b31-4342-db13-ecfb55b504c1"
   },
   "outputs": [
    {
     "name": "stderr",
     "output_type": "stream",
     "text": [
      "C:\\Users\\hardikck\\Anaconda3\\lib\\site-packages\\sklearn\\cluster\\k_means_.py:896: RuntimeWarning: Explicit initial center position passed: performing only one init in k-means instead of n_init=10\n",
      "  return_n_iter=True)\n"
     ]
    },
    {
     "data": {
      "text/plain": [
       "KMeans(algorithm='auto', copy_x=True,\n",
       "    init=array([[0., 0., ..., 0., 0.],\n",
       "       [0., 0., ..., 0., 0.],\n",
       "       ...,\n",
       "       [0., 0., ..., 0., 0.],\n",
       "       [0., 0., ..., 0., 0.]]),\n",
       "    max_iter=300, n_clusters=10, n_init=10, n_jobs=1,\n",
       "    precompute_distances='auto', random_state=4, tol=0.0001, verbose=0)"
      ]
     },
     "execution_count": 20,
     "metadata": {},
     "output_type": "execute_result"
    }
   ],
   "source": [
    "kmeans.fit(x_train)"
   ]
  },
  {
   "cell_type": "code",
   "execution_count": 24,
   "metadata": {
    "colab": {
     "base_uri": "https://localhost:8080/",
     "height": 483
    },
    "colab_type": "code",
    "id": "kJmNjP4zrjAg",
    "outputId": "c3594665-3436-4cda-9bee-298108683f98"
   },
   "outputs": [
    {
     "data": {
      "image/png": "[encoded data removed]",
      "text/plain": [
       "<Figure size 720x720 with 2 Axes>"
      ]
     },
     "metadata": {},
     "output_type": "display_data"
    },
    {
     "name": "stdout",
     "output_type": "stream",
     "text": [
      "Accuracy: 59.74 %\n"
     ]
    },
    {
     "data": {
      "image/png": "[encoded data removed]",
      "text/plain": [
       "<Figure size 432x288 with 1 Axes>"
      ]
     },
     "metadata": {},
     "output_type": "display_data"
    }
   ],
   "source": [
    "y_pred = kmeans.predict(x_test)\n",
    "\n",
    "import seaborn as sns; sns.set()\n",
    "cm = confusion_matrix(y_test, y_pred)\n",
    "plt.figure(figsize=(10, 10))\n",
    "sns.heatmap(cm, annot=True, fmt=\"d\")\n",
    "plt.title(\"Confusion matrix\", fontsize=20)\n",
    "plt.ylabel('True label', fontsize=15)\n",
    "plt.xlabel('Clustering label', fontsize=15)\n",
    "plt.show()\n",
    "\n",
    "accuracy = accuracy_score(y_test, y_pred)\n",
    "print('Accuracy: {} %'.format(accuracy*100))\n",
    "\n",
    "plt.scatter(x_train[:, 0], x_train[:, 1], c=y_train, s=50, cmap='viridis')\n",
    "my_center = kmeans.cluster_centers_\n",
    "my_label = kmeans.labels_\n",
    "plt.scatter(my_center[:, 0], my_center[:, 1], c='black', s=200, alpha=0.5);\n"
   ]
  },
  {
   "cell_type": "markdown",
   "metadata": {
    "colab_type": "text",
    "id": "vVQc1OfQP3xW"
   },
   "source": [
    "# Auto-Encoder with KMeans Clustering"
   ]
  },
  {
   "cell_type": "markdown",
   "metadata": {
    "colab_type": "text",
    "id": "SQbWr6ZzQJxI"
   },
   "source": [
    "Loading Dataset"
   ]
  },
  {
   "cell_type": "code",
   "execution_count": 31,
   "metadata": {
    "colab": {
     "base_uri": "https://localhost:8080/",
     "height": 265
    },
    "colab_type": "code",
    "id": "hPoWNO7uP2xw",
    "outputId": "b66929e4-0d72-4019-fe50-5bd1f74f3a0e"
   },
   "outputs": [],
   "source": [
    "import tensorflow as tf\n",
    "import numpy as np\n",
    "import matplotlib.pyplot as plt\n",
    "import sklearn\n",
    "import os\n",
    "import keras\n",
    "import numpy as np\n",
    "import pandas as pd\n",
    "import keras.backend as K\n",
    "\n",
    "from time import time\n",
    "from keras import callbacks\n",
    "from keras.models import Model\n",
    "from keras.optimizers import SGD\n",
    "from keras.layers import Dense, Input\n",
    "from keras.initializers import VarianceScaling\n",
    "from keras.engine.topology import Layer, InputSpec\n",
    "from sklearn.metrics import confusion_matrix\n",
    "from sklearn.cluster import KMeans\n",
    "from sklearn.metrics import accuracy_score, normalized_mutual_info_score, adjusted_mutual_info_score\n",
    "\n",
    "\n",
    "(x_train, y_train), (x_test, y_test) = tf.keras.datasets.fashion_mnist.load_data()\n"
   ]
  },
  {
   "cell_type": "markdown",
   "metadata": {
    "colab_type": "text",
    "id": "VHY80A7kQbwe"
   },
   "source": [
    "Preprocessing and Normalization"
   ]
  },
  {
   "cell_type": "code",
   "execution_count": 32,
   "metadata": {
    "colab": {
     "base_uri": "https://localhost:8080/",
     "height": 163
    },
    "colab_type": "code",
    "id": "hT3FtSdIQeQV",
    "outputId": "fadee047-9512-43f0-8948-2ce31f3e9cfe"
   },
   "outputs": [],
   "source": [
    "samples, x, y = x_train.shape\n",
    "x_train = x_train.reshape((samples,x*y))\n",
    "\n",
    "samples, x, y = x_test.shape\n",
    "x_test = x_test.reshape((samples,x*y))\n",
    "\n",
    "x_train = x_train/255\n",
    "x_test = x_test/255"
   ]
  },
  {
   "cell_type": "markdown",
   "metadata": {
    "colab_type": "text",
    "id": "i_1E8PU3QmQB"
   },
   "source": [
    "Map cluster to label"
   ]
  },
  {
   "cell_type": "code",
   "execution_count": 33,
   "metadata": {
    "colab": {
     "base_uri": "https://localhost:8080/",
     "height": 581
    },
    "colab_type": "code",
    "id": "ECZqqGUPQoub",
    "outputId": "83b3a831-9392-4d0f-b511-9030f8ca7ec5"
   },
   "outputs": [
    {
     "name": "stdout",
     "output_type": "stream",
     "text": [
      "9   0\n",
      "0   1\n",
      "0   2\n",
      "3   3\n",
      "0   4\n",
      "2   5\n",
      "7   6\n",
      "2   7\n",
      "5   8\n",
      "5   9\n",
      "0   10\n",
      "9   11\n",
      "5   12\n",
      "5   13\n",
      "7   14\n",
      "9   15\n",
      "1   16\n",
      "0   17\n",
      "6   18\n",
      "4   19\n",
      "3   20\n",
      "1   21\n",
      "4   22\n",
      "8   23\n",
      "4   24\n",
      "3   25\n",
      "0   26\n",
      "2   27\n",
      "4   28\n",
      "4   29\n",
      "5   30\n"
     ]
    }
   ],
   "source": [
    "for label in range(len(y_train)):\n",
    "  print(y_train[label],\" \",label)\n",
    "  if label == 30:\n",
    "    break"
   ]
  },
  {
   "cell_type": "code",
   "execution_count": 34,
   "metadata": {
    "colab": {},
    "colab_type": "code",
    "id": "D8xZSpIyQse0"
   },
   "outputs": [],
   "source": [
    "cluster_array = [x_train[1], x_train[16], x_train[27], x_train[20], x_train[29], x_train[13], x_train[18], x_train[6], x_train[23], x_train[0]]"
   ]
  },
  {
   "cell_type": "markdown",
   "metadata": {
    "colab_type": "text",
    "id": "Kg1ou8MRQvPb"
   },
   "source": [
    "Auto encoder"
   ]
  },
  {
   "cell_type": "code",
   "execution_count": 35,
   "metadata": {
    "colab": {
     "base_uri": "https://localhost:8080/",
     "height": 146
    },
    "colab_type": "code",
    "id": "uK-lWvWfQxMU",
    "outputId": "588735f0-bc6f-4093-cab3-28b9882e6673"
   },
   "outputs": [],
   "source": [
    "\n",
    "encoder_input = Input(shape=(784,))\n",
    "\n",
    "encoder_model = Dense(500, activation='relu')(encoder_input)\n",
    "encoder_model = Dense(500, activation='relu')(encoder_model)\n",
    "encoder_model = Dense(2000, activation='relu')(encoder_model)\n",
    "encoder_model = Dense(10, activation='sigmoid')(encoder_model)\n",
    "\n",
    "decoder_model = Dense(2000, activation='relu')(encoder_model)\n",
    "decoder_model = Dense(500, activation='relu')(decoder_model)\n",
    "decoder_model = Dense(500, activation='relu')(decoder_model)\n",
    "decoder_model = Dense(784)(decoder_model)\n",
    "\n",
    "autoencoder = Model(encoder_input, decoder_model)"
   ]
  },
  {
   "cell_type": "code",
   "execution_count": 36,
   "metadata": {
    "colab": {
     "base_uri": "https://localhost:8080/",
     "height": 490
    },
    "colab_type": "code",
    "id": "03q_BGRPQ4e3",
    "outputId": "dd4cfa74-9e9a-4147-abc0-cad09c83618b"
   },
   "outputs": [
    {
     "name": "stdout",
     "output_type": "stream",
     "text": [
      "_________________________________________________________________\n",
      "Layer (type)                 Output Shape              Param #   \n",
      "=================================================================\n",
      "input_1 (InputLayer)         (None, 784)               0         \n",
      "_________________________________________________________________\n",
      "dense_1 (Dense)              (None, 500)               392500    \n",
      "_________________________________________________________________\n",
      "dense_2 (Dense)              (None, 500)               250500    \n",
      "_________________________________________________________________\n",
      "dense_3 (Dense)              (None, 2000)              1002000   \n",
      "_________________________________________________________________\n",
      "dense_4 (Dense)              (None, 10)                20010     \n",
      "_________________________________________________________________\n",
      "dense_5 (Dense)              (None, 2000)              22000     \n",
      "_________________________________________________________________\n",
      "dense_6 (Dense)              (None, 500)               1000500   \n",
      "_________________________________________________________________\n",
      "dense_7 (Dense)              (None, 500)               250500    \n",
      "_________________________________________________________________\n",
      "dense_8 (Dense)              (None, 784)               392784    \n",
      "=================================================================\n",
      "Total params: 3,330,794\n",
      "Trainable params: 3,330,794\n",
      "Non-trainable params: 0\n",
      "_________________________________________________________________\n"
     ]
    }
   ],
   "source": [
    "autoencoder.summary()"
   ]
  },
  {
   "cell_type": "code",
   "execution_count": 37,
   "metadata": {
    "colab": {},
    "colab_type": "code",
    "id": "NuiV_EKJQ6sb"
   },
   "outputs": [],
   "source": [
    "encoder = Model(encoder_input, encoder_model)"
   ]
  },
  {
   "cell_type": "code",
   "execution_count": 41,
   "metadata": {
    "colab": {
     "base_uri": "https://localhost:8080/",
     "height": 74
    },
    "colab_type": "code",
    "id": "oviAeVxwQ9pl",
    "outputId": "b4d07c30-1478-4a99-c8db-1038f45b049f"
   },
   "outputs": [],
   "source": [
    "autoencoder.compile(optimizer='adam', loss='mse')"
   ]
  },
  {
   "cell_type": "code",
   "execution_count": 48,
   "metadata": {
    "colab": {
     "base_uri": "https://localhost:8080/",
     "height": 1000
    },
    "colab_type": "code",
    "id": "swweDCv1Q_4y",
    "outputId": "ebe7fbff-8ab7-4b2d-d0f2-473de75b075f"
   },
   "outputs": [
    {
     "name": "stdout",
     "output_type": "stream",
     "text": [
      "Train on 60000 samples, validate on 10000 samples\n",
      "Epoch 1/50\n",
      "60000/60000 [==============================] - 31s 521us/step - loss: 0.0153 - val_loss: 0.0156\n",
      "Epoch 2/50\n",
      "60000/60000 [==============================] - 30s 501us/step - loss: 0.0152 - val_loss: 0.0155\n",
      "Epoch 3/50\n",
      "60000/60000 [==============================] - 30s 497us/step - loss: 0.0151 - val_loss: 0.0156\n",
      "Epoch 4/50\n",
      "60000/60000 [==============================] - 29s 488us/step - loss: 0.0151 - val_loss: 0.0151\n",
      "Epoch 5/50\n",
      "60000/60000 [==============================] - 29s 489us/step - loss: 0.0150 - val_loss: 0.0153\n",
      "Epoch 6/50\n",
      "60000/60000 [==============================] - 29s 483us/step - loss: 0.0149 - val_loss: 0.0162\n",
      "Epoch 7/50\n",
      "60000/60000 [==============================] - 30s 492us/step - loss: 0.0151 - val_loss: 0.0149\n",
      "Epoch 8/50\n",
      "60000/60000 [==============================] - 30s 499us/step - loss: 0.0146 - val_loss: 0.0148\n",
      "Epoch 9/50\n",
      "60000/60000 [==============================] - 31s 520us/step - loss: 0.0147 - val_loss: 0.0147\n",
      "Epoch 10/50\n",
      "60000/60000 [==============================] - 29s 484us/step - loss: 0.0146 - val_loss: 0.0147\n",
      "Epoch 11/50\n",
      "60000/60000 [==============================] - 31s 511us/step - loss: 0.0144 - val_loss: 0.0146\n",
      "Epoch 12/50\n",
      "60000/60000 [==============================] - 30s 505us/step - loss: 0.0144 - val_loss: 0.0146\n",
      "Epoch 13/50\n",
      "60000/60000 [==============================] - 33s 544us/step - loss: 0.0143 - val_loss: 0.0146\n",
      "Epoch 14/50\n",
      "60000/60000 [==============================] - 32s 533us/step - loss: 0.0146 - val_loss: 0.0144\n",
      "Epoch 15/50\n",
      "60000/60000 [==============================] - 33s 545us/step - loss: 0.0141 - val_loss: 0.0143\n",
      "Epoch 16/50\n",
      "60000/60000 [==============================] - 32s 534us/step - loss: 0.0140 - val_loss: 0.0144\n",
      "Epoch 17/50\n",
      "60000/60000 [==============================] - 32s 530us/step - loss: 0.0141 - val_loss: 0.0142\n",
      "Epoch 18/50\n",
      "60000/60000 [==============================] - 30s 504us/step - loss: 0.0141 - val_loss: 0.0142\n",
      "Epoch 19/50\n",
      "60000/60000 [==============================] - 31s 516us/step - loss: 0.0139 - val_loss: 0.0143\n",
      "Epoch 20/50\n",
      "60000/60000 [==============================] - 32s 538us/step - loss: 0.0139 - val_loss: 0.0141\n",
      "Epoch 21/50\n",
      "60000/60000 [==============================] - 33s 549us/step - loss: 0.0138 - val_loss: 0.0140\n",
      "Epoch 22/50\n",
      "60000/60000 [==============================] - 35s 579us/step - loss: 0.0138 - val_loss: 0.0140\n",
      "Epoch 23/50\n",
      "60000/60000 [==============================] - 35s 580us/step - loss: 0.0138 - val_loss: 0.0140\n",
      "Epoch 24/50\n",
      "60000/60000 [==============================] - 34s 561us/step - loss: 0.0136 - val_loss: 0.0140\n",
      "Epoch 25/50\n",
      "60000/60000 [==============================] - 33s 553us/step - loss: 0.0137 - val_loss: 0.0142\n",
      "Epoch 26/50\n",
      "60000/60000 [==============================] - 32s 528us/step - loss: 0.0136 - val_loss: 0.0138\n",
      "Epoch 27/50\n",
      "60000/60000 [==============================] - 32s 527us/step - loss: 0.0135 - val_loss: 0.0149\n",
      "Epoch 28/50\n",
      "60000/60000 [==============================] - 31s 508us/step - loss: 0.0137 - val_loss: 0.0138\n",
      "Epoch 29/50\n",
      "60000/60000 [==============================] - 33s 551us/step - loss: 0.0133 - val_loss: 0.0137\n",
      "Epoch 30/50\n",
      "60000/60000 [==============================] - 32s 531us/step - loss: 0.0134 - val_loss: 0.0137\n",
      "Epoch 31/50\n",
      "60000/60000 [==============================] - 30s 505us/step - loss: 0.0133 - val_loss: 0.0136\n",
      "Epoch 32/50\n",
      "60000/60000 [==============================] - 31s 517us/step - loss: 0.0133 - val_loss: 0.0137\n",
      "Epoch 33/50\n",
      "60000/60000 [==============================] - 33s 545us/step - loss: 0.0134 - val_loss: 0.0135\n",
      "Epoch 34/50\n",
      "60000/60000 [==============================] - 31s 525us/step - loss: 0.0132 - val_loss: 0.0135\n",
      "Epoch 35/50\n",
      "60000/60000 [==============================] - 33s 545us/step - loss: 0.0132 - val_loss: 0.0134\n",
      "Epoch 36/50\n",
      "60000/60000 [==============================] - 31s 520us/step - loss: 0.0131 - val_loss: 0.0139\n",
      "Epoch 37/50\n",
      "60000/60000 [==============================] - 30s 501us/step - loss: 0.0132 - val_loss: 0.0135\n",
      "Epoch 38/50\n",
      "60000/60000 [==============================] - 30s 507us/step - loss: 0.0130 - val_loss: 0.0134\n",
      "Epoch 39/50\n",
      "60000/60000 [==============================] - 31s 516us/step - loss: 0.0131 - val_loss: 0.0136\n",
      "Epoch 40/50\n",
      "60000/60000 [==============================] - 31s 512us/step - loss: 0.0130 - val_loss: 0.0133\n",
      "Epoch 41/50\n",
      "60000/60000 [==============================] - 31s 514us/step - loss: 0.0131 - val_loss: 0.0134\n",
      "Epoch 42/50\n",
      "60000/60000 [==============================] - 30s 506us/step - loss: 0.0129 - val_loss: 0.0132\n",
      "Epoch 43/50\n",
      "60000/60000 [==============================] - 31s 519us/step - loss: 0.0129 - val_loss: 0.0133\n",
      "Epoch 44/50\n",
      "60000/60000 [==============================] - 32s 528us/step - loss: 0.0128 - val_loss: 0.0132\n",
      "Epoch 45/50\n",
      "60000/60000 [==============================] - 31s 511us/step - loss: 0.0129 - val_loss: 0.0132\n",
      "Epoch 46/50\n",
      "60000/60000 [==============================] - 29s 490us/step - loss: 0.0127 - val_loss: 0.0132\n",
      "Epoch 47/50\n",
      "60000/60000 [==============================] - 30s 504us/step - loss: 0.0129 - val_loss: 0.0131\n",
      "Epoch 48/50\n",
      "60000/60000 [==============================] - 30s 500us/step - loss: 0.0128 - val_loss: 0.0135\n",
      "Epoch 49/50\n",
      "60000/60000 [==============================] - 35s 589us/step - loss: 0.0127 - val_loss: 0.0131\n",
      "Epoch 50/50\n",
      "60000/60000 [==============================] - 57s 946us/step - loss: 0.0128 - val_loss: 0.0133\n"
     ]
    }
   ],
   "source": [
    "train_history = autoencoder.fit(x_train, x_train, epochs=150, verbose=1, batch_size=2048, validation_data=(x_test, x_test))"
   ]
  },
  {
   "cell_type": "code",
   "execution_count": 49,
   "metadata": {
    "colab": {},
    "colab_type": "code",
    "id": "toLyJCOXRDWn"
   },
   "outputs": [],
   "source": [
    "pred_auto_train = encoder.predict(x_train)\n",
    "encoder.compile(optimizer='adam', loss='mse', metrics=['accuracy'])\n",
    "cluster_pred_array = [pred_auto_train[1], pred_auto_train[16], pred_auto_train[27], pred_auto_train[20], pred_auto_train[29], pred_auto_train[13], pred_auto_train[18], pred_auto_train[6], pred_auto_train[23], pred_auto_train[0]]"
   ]
  },
  {
   "cell_type": "code",
   "execution_count": 50,
   "metadata": {
    "colab": {
     "base_uri": "https://localhost:8080/",
     "height": 292
    },
    "colab_type": "code",
    "id": "4yoIX6QXRGER",
    "outputId": "7d59900b-1954-4e61-cc46-54a0a60d283e"
   },
   "outputs": [
    {
     "name": "stderr",
     "output_type": "stream",
     "text": [
      "C:\\Users\\hardikck\\Anaconda3\\lib\\site-packages\\sklearn\\cluster\\k_means_.py:896: RuntimeWarning: Explicit initial center position passed: performing only one init in k-means instead of n_init=10\n",
      "  return_n_iter=True)\n"
     ]
    },
    {
     "data": {
      "image/png": "[encoded data removed]",
      "text/plain": [
       "<Figure size 720x720 with 2 Axes>"
      ]
     },
     "metadata": {},
     "output_type": "display_data"
    },
    {
     "name": "stdout",
     "output_type": "stream",
     "text": [
      "Accuracy: 54.72 %\n"
     ]
    }
   ],
   "source": [
    "km = KMeans(n_clusters=10, init = np.array(cluster_pred_array))\n",
    "pred_auto = encoder.predict(x_test)\n",
    "km.fit(pred_auto_train)\n",
    "y_pred = km.predict(pred_auto)\n",
    "\n",
    "cm = confusion_matrix(y_test, y_pred)\n",
    "plt.figure(figsize=(10, 10))\n",
    "sns.heatmap(cm, annot=True, fmt=\"d\")\n",
    "plt.title(\"Confusion matrix\", fontsize=20)\n",
    "plt.ylabel('True label', fontsize=15)\n",
    "plt.xlabel('Clustering label', fontsize=15)\n",
    "plt.show()\n",
    "\n",
    "accuracy = accuracy_score(y_test, y_pred)\n",
    "print('Accuracy: {} %'.format(accuracy*100))\n"
   ]
  },
  {
   "cell_type": "code",
   "execution_count": 51,
   "metadata": {
    "colab": {
     "base_uri": "https://localhost:8080/",
     "height": 297
    },
    "colab_type": "code",
    "id": "-4KgOWyFR9Ve",
    "outputId": "b74fc520-36db-4b86-9b48-109e01e8abe7"
   },
   "outputs": [
    {
     "data": {
      "text/plain": [
       "Text(0,0.5,'Training Loss')"
      ]
     },
     "execution_count": 51,
     "metadata": {},
     "output_type": "execute_result"
    },
    {
     "data": {
      "image/png": "[encoded data removed]",
      "text/plain": [
       "<Figure size 432x288 with 1 Axes>"
      ]
     },
     "metadata": {},
     "output_type": "display_data"
    }
   ],
   "source": [
    "plt.plot(train_history.history['loss'])\n",
    "plt.xlabel('Epochs')\n",
    "plt.ylabel('Training Loss')"
   ]
  },
  {
   "cell_type": "code",
   "execution_count": 0,
   "metadata": {
    "colab": {
     "base_uri": "https://localhost:8080/",
     "height": 297
    },
    "colab_type": "code",
    "id": "u3HWoXUESQG2",
    "outputId": "4c685a82-e69b-441e-8952-ee27458d71af"
   },
   "outputs": [
    {
     "data": {
      "text/plain": [
       "Text(0, 0.5, 'Validation Loss')"
      ]
     },
     "execution_count": 15,
     "metadata": {
      "tags": []
     },
     "output_type": "execute_result"
    },
    {
     "data": {
      "image/png": "[encoded data removed]",
      "text/plain": [
       "<Figure size 432x288 with 1 Axes>"
      ]
     },
     "metadata": {
      "tags": []
     },
     "output_type": "display_data"
    }
   ],
   "source": [
    "plt.plot(train_history.history['val_loss'])\n",
    "plt.xlabel('Epochs')\n",
    "plt.ylabel('Validation Loss')"
   ]
  },
  {
   "cell_type": "code",
   "execution_count": 0,
   "metadata": {
    "colab": {
     "base_uri": "https://localhost:8080/",
     "height": 297
    },
    "colab_type": "code",
    "id": "eAuYFbbhSYJx",
    "outputId": "b9d4e2aa-0199-44cd-f377-8fc97e46a75d"
   },
   "outputs": [
    {
     "data": {
      "text/plain": [
       "Text(0, 0.5, 'Training Accuracy')"
      ]
     },
     "execution_count": 16,
     "metadata": {
      "tags": []
     },
     "output_type": "execute_result"
    },
    {
     "data": {
      "image/png": "[encoded data removed]",
      "text/plain": [
       "<Figure size 432x288 with 1 Axes>"
      ]
     },
     "metadata": {
      "tags": []
     },
     "output_type": "display_data"
    }
   ],
   "source": [
    "plt.plot(train_history.history['acc'])\n",
    "plt.xlabel('Epochs')\n",
    "plt.ylabel('Training Accuracy')"
   ]
  },
  {
   "cell_type": "code",
   "execution_count": 0,
   "metadata": {
    "colab": {
     "base_uri": "https://localhost:8080/",
     "height": 299
    },
    "colab_type": "code",
    "id": "K0G6WJCcSip4",
    "outputId": "79342c41-5f42-45e9-a08c-85247b3b0c87"
   },
   "outputs": [
    {
     "data": {
      "text/plain": [
       "Text(0, 0.5, 'Validation Accuracy')"
      ]
     },
     "execution_count": 17,
     "metadata": {
      "tags": []
     },
     "output_type": "execute_result"
    },
    {
     "data": {
      "image/png": "[encoded data removed]",
      "text/plain": [
       "<Figure size 432x288 with 1 Axes>"
      ]
     },
     "metadata": {
      "tags": []
     },
     "output_type": "display_data"
    }
   ],
   "source": [
    "plt.plot(train_history.history['val_acc'])\n",
    "plt.xlabel('Epochs')\n",
    "plt.ylabel('Validation Accuracy')"
   ]
  },
  {
   "cell_type": "markdown",
   "metadata": {
    "colab_type": "text",
    "id": "KN-sgTVppGYU"
   },
   "source": [
    "# Auto Encoder with GMM"
   ]
  },
  {
   "cell_type": "markdown",
   "metadata": {
    "colab_type": "text",
    "id": "lBMVIo6EpLjv"
   },
   "source": [
    "Import the required files and data"
   ]
  },
  {
   "cell_type": "code",
   "execution_count": 52,
   "metadata": {
    "colab": {
     "base_uri": "https://localhost:8080/",
     "height": 54
    },
    "colab_type": "code",
    "id": "NkOyezwTpVOh",
    "outputId": "fd07e406-d668-49e7-f88b-0ddc43817d8a"
   },
   "outputs": [],
   "source": [
    "import tensorflow as tf\n",
    "import numpy as np\n",
    "import matplotlib.pyplot as plt\n",
    "import sklearn\n",
    "import os\n",
    "import keras\n",
    "import numpy as np\n",
    "import pandas as pd\n",
    "import keras.backend as K\n",
    "\n",
    "from time import time\n",
    "from keras import callbacks\n",
    "from keras.models import Model\n",
    "from keras.optimizers import SGD\n",
    "from keras.layers import Dense, Input\n",
    "from keras.initializers import VarianceScaling\n",
    "from keras.engine.topology import Layer, InputSpec\n",
    "\n",
    "from sklearn.cluster import KMeans\n",
    "from sklearn.metrics import accuracy_score, normalized_mutual_info_score, adjusted_mutual_info_score\n",
    "from sklearn.metrics import confusion_matrix\n",
    "from sklearn.mixture import GaussianMixture\n",
    "\n",
    "(x_train, y_train), (x_test, y_test) = tf.keras.datasets.fashion_mnist.load_data()\n"
   ]
  },
  {
   "cell_type": "markdown",
   "metadata": {
    "colab_type": "text",
    "id": "wZmlPgb3pd91"
   },
   "source": [
    "Update the dataset as required"
   ]
  },
  {
   "cell_type": "code",
   "execution_count": 53,
   "metadata": {
    "colab": {
     "base_uri": "https://localhost:8080/",
     "height": 163
    },
    "colab_type": "code",
    "id": "KxbUtmmspgb5",
    "outputId": "1a85ecfd-f768-4042-dc85-a38ebba308d7"
   },
   "outputs": [],
   "source": [
    "nsamples, nx, ny = x_train.shape\n",
    "x_train = x_train.reshape((nsamples,nx*ny))\n",
    "\n",
    "\n",
    "nsamples, nx, ny = x_test.shape\n",
    "x_test = x_test.reshape((nsamples,nx*ny))\n",
    "\n",
    "\n",
    "x_train = x_train/255\n",
    "x_test = x_test/255"
   ]
  },
  {
   "cell_type": "markdown",
   "metadata": {
    "colab_type": "text",
    "id": "X7uVcOivpmBm"
   },
   "source": [
    "Map cluster to label"
   ]
  },
  {
   "cell_type": "code",
   "execution_count": 54,
   "metadata": {
    "colab": {
     "base_uri": "https://localhost:8080/",
     "height": 581
    },
    "colab_type": "code",
    "id": "nWoZuxn9ppRR",
    "outputId": "89c8d9c3-c3c6-41fb-f317-8a8c8f08437d"
   },
   "outputs": [
    {
     "name": "stdout",
     "output_type": "stream",
     "text": [
      "9   0\n",
      "0   1\n",
      "0   2\n",
      "3   3\n",
      "0   4\n",
      "2   5\n",
      "7   6\n",
      "2   7\n",
      "5   8\n",
      "5   9\n",
      "0   10\n",
      "9   11\n",
      "5   12\n",
      "5   13\n",
      "7   14\n",
      "9   15\n",
      "1   16\n",
      "0   17\n",
      "6   18\n",
      "4   19\n",
      "3   20\n",
      "1   21\n",
      "4   22\n",
      "8   23\n",
      "4   24\n",
      "3   25\n",
      "0   26\n",
      "2   27\n",
      "4   28\n",
      "4   29\n",
      "5   30\n"
     ]
    }
   ],
   "source": [
    "for counter in range(len(y_train)):\n",
    "  print(y_train[counter],\" \",counter)\n",
    "  if counter == 30:\n",
    "    break"
   ]
  },
  {
   "cell_type": "code",
   "execution_count": 0,
   "metadata": {
    "colab": {},
    "colab_type": "code",
    "id": "I3kXneRCptyI"
   },
   "outputs": [],
   "source": [
    "cluster_array = [x_train[1], x_train[16], x_train[27], x_train[20], x_train[29], x_train[13], x_train[18], x_train[6], x_train[23], x_train[0]]"
   ]
  },
  {
   "cell_type": "markdown",
   "metadata": {
    "colab_type": "text",
    "id": "C1mp31D5pw7C"
   },
   "source": [
    "Create auto encoder"
   ]
  },
  {
   "cell_type": "code",
   "execution_count": 0,
   "metadata": {
    "colab": {},
    "colab_type": "code",
    "id": "N6uPKDiDqIUE"
   },
   "outputs": [],
   "source": [
    "# this is our input placeholder\n",
    "encoder_input = Input(shape=(784,))\n",
    "\n",
    "# \"encoder_model\" is the encoded representation of the input\n",
    "encoder_model = Dense(500, activation='relu')(encoder_input)\n",
    "encoder_model = Dense(500, activation='relu')(encoder_model)\n",
    "encoder_model = Dense(2000, activation='relu')(encoder_model)\n",
    "encoder_model = Dense(10, activation='sigmoid')(encoder_model)\n",
    "\n",
    "# \"decoder_model\" is the lossy reconstruction of the input\n",
    "decoder_model = Dense(2000, activation='relu')(encoder_model)\n",
    "decoder_model = Dense(500, activation='relu')(decoder_model)\n",
    "decoder_model = Dense(500, activation='relu')(decoder_model)\n",
    "decoder_model = Dense(784)(decoder_model)\n",
    "\n",
    "# this model maps an input to its reconstruction\n",
    "autoencoder = Model(encoder_input, decoder_model)"
   ]
  },
  {
   "cell_type": "code",
   "execution_count": 0,
   "metadata": {
    "colab": {
     "base_uri": "https://localhost:8080/",
     "height": 490
    },
    "colab_type": "code",
    "id": "qzEFa3B9qxxf",
    "outputId": "4ba38e3f-993a-4e85-8bd8-054a325eed36"
   },
   "outputs": [
    {
     "name": "stdout",
     "output_type": "stream",
     "text": [
      "Model: \"model_3\"\n",
      "_________________________________________________________________\n",
      "Layer (type)                 Output Shape              Param #   \n",
      "=================================================================\n",
      "input_2 (InputLayer)         (None, 784)               0         \n",
      "_________________________________________________________________\n",
      "dense_9 (Dense)              (None, 500)               392500    \n",
      "_________________________________________________________________\n",
      "dense_10 (Dense)             (None, 500)               250500    \n",
      "_________________________________________________________________\n",
      "dense_11 (Dense)             (None, 2000)              1002000   \n",
      "_________________________________________________________________\n",
      "dense_12 (Dense)             (None, 10)                20010     \n",
      "_________________________________________________________________\n",
      "dense_13 (Dense)             (None, 2000)              22000     \n",
      "_________________________________________________________________\n",
      "dense_14 (Dense)             (None, 500)               1000500   \n",
      "_________________________________________________________________\n",
      "dense_15 (Dense)             (None, 500)               250500    \n",
      "_________________________________________________________________\n",
      "dense_16 (Dense)             (None, 784)               392784    \n",
      "=================================================================\n",
      "Total params: 3,330,794\n",
      "Trainable params: 3,330,794\n",
      "Non-trainable params: 0\n",
      "_________________________________________________________________\n"
     ]
    }
   ],
   "source": [
    "autoencoder.summary()"
   ]
  },
  {
   "cell_type": "code",
   "execution_count": 57,
   "metadata": {
    "colab": {},
    "colab_type": "code",
    "id": "ZopD9Ym5q0lc"
   },
   "outputs": [],
   "source": [
    "#  this model maps an input to its encoded representation\n",
    "encoder = Model(encoder_input, encoder_model)"
   ]
  },
  {
   "cell_type": "code",
   "execution_count": 58,
   "metadata": {
    "colab": {},
    "colab_type": "code",
    "id": "2Q-Rz1Wvq30N"
   },
   "outputs": [],
   "source": [
    "autoencoder.compile(optimizer='adam', loss='mse', metrics=['accuracy'])"
   ]
  },
  {
   "cell_type": "code",
   "execution_count": 59,
   "metadata": {
    "colab": {
     "base_uri": "https://localhost:8080/",
     "height": 1000
    },
    "colab_type": "code",
    "id": "gCoU-el4q9tB",
    "outputId": "479005f5-54ac-40d8-d97f-5f59eba4250e"
   },
   "outputs": [
    {
     "name": "stdout",
     "output_type": "stream",
     "text": [
      "Train on 60000 samples, validate on 10000 samples\n",
      "Epoch 1/10\n",
      "60000/60000 [==============================] - 55s 916us/step - loss: 0.0212 - acc: 0.0283 - val_loss: 0.0150 - val_acc: 0.0276\n",
      "Epoch 2/10\n",
      "60000/60000 [==============================] - 50s 834us/step - loss: 0.0137 - acc: 0.0270 - val_loss: 0.0134 - val_acc: 0.0285\n",
      "Epoch 3/10\n",
      "60000/60000 [==============================] - 53s 882us/step - loss: 0.0128 - acc: 0.0304 - val_loss: 0.0131 - val_acc: 0.0302\n",
      "Epoch 4/10\n",
      "60000/60000 [==============================] - 52s 859us/step - loss: 0.0126 - acc: 0.0322 - val_loss: 0.0130 - val_acc: 0.0290\n",
      "Epoch 5/10\n",
      "60000/60000 [==============================] - 44s 730us/step - loss: 0.0125 - acc: 0.0326 - val_loss: 0.0130 - val_acc: 0.0301\n",
      "Epoch 6/10\n",
      "60000/60000 [==============================] - 50s 835us/step - loss: 0.0125 - acc: 0.0333 - val_loss: 0.0129 - val_acc: 0.0305\n",
      "Epoch 7/10\n",
      "60000/60000 [==============================] - 51s 844us/step - loss: 0.0125 - acc: 0.0332 - val_loss: 0.0129 - val_acc: 0.0297\n",
      "Epoch 8/10\n",
      "60000/60000 [==============================] - 49s 817us/step - loss: 0.0124 - acc: 0.0334 - val_loss: 0.0129 - val_acc: 0.0291\n",
      "Epoch 9/10\n",
      "60000/60000 [==============================] - 54s 894us/step - loss: 0.0125 - acc: 0.0336 - val_loss: 0.0129 - val_acc: 0.0301\n",
      "Epoch 10/10\n",
      "60000/60000 [==============================] - 49s 821us/step - loss: 0.0124 - acc: 0.0334 - val_loss: 0.0130 - val_acc: 0.0310\n"
     ]
    }
   ],
   "source": [
    "train_history = autoencoder.fit(x_train, x_train, epochs=10, verbose=1, batch_size=2048, validation_data=(x_test, x_test))"
   ]
  },
  {
   "cell_type": "code",
   "execution_count": 60,
   "metadata": {
    "colab": {},
    "colab_type": "code",
    "id": "NZDNwqWfrUCk"
   },
   "outputs": [],
   "source": [
    "pred_auto_train = encoder.predict(x_train)\n",
    "encoder.compile(optimizer='adam', loss='mse', metrics=['accuracy'])\n",
    "cluster_pred_array = [pred_auto_train[1], pred_auto_train[16], pred_auto_train[27], pred_auto_train[20], pred_auto_train[29], pred_auto_train[13], pred_auto_train[18], pred_auto_train[6], pred_auto_train[23], pred_auto_train[0]]"
   ]
  },
  {
   "cell_type": "code",
   "execution_count": 61,
   "metadata": {
    "colab": {
     "base_uri": "https://localhost:8080/",
     "height": 74
    },
    "colab_type": "code",
    "id": "TlmQi0aWr4M5",
    "outputId": "a1ea4de2-77bf-406a-d0d5-b3d0ab6f4d57"
   },
   "outputs": [
    {
     "name": "stderr",
     "output_type": "stream",
     "text": [
      "C:\\Users\\hardikck\\Anaconda3\\lib\\site-packages\\sklearn\\cluster\\k_means_.py:896: RuntimeWarning: Explicit initial center position passed: performing only one init in k-means instead of n_init=10\n",
      "  return_n_iter=True)\n"
     ]
    }
   ],
   "source": [
    "km = KMeans(n_clusters=10, init = np.array(cluster_pred_array))\n",
    "pred_auto = encoder.predict(x_test)\n",
    "km.fit(pred_auto_train)\n",
    "y_pred = km.predict(pred_auto)"
   ]
  },
  {
   "cell_type": "markdown",
   "metadata": {
    "colab_type": "text",
    "id": "KnW3RepEr8Bv"
   },
   "source": [
    "Implementation of GMM"
   ]
  },
  {
   "cell_type": "code",
   "execution_count": 62,
   "metadata": {
    "colab": {},
    "colab_type": "code",
    "id": "kgdYOcOMr-O1"
   },
   "outputs": [],
   "source": [
    "gmm = GaussianMixture(n_components = 10, n_init=1, means_init=cluster_pred_array)\n",
    "k_means_gmm = gmm.fit(pred_auto_train)\n",
    "\n",
    "y_gmm_train = k_means_gmm.predict(pred_auto_train)\n",
    "y_gmm_test = k_means_gmm.predict(pred_auto)"
   ]
  },
  {
   "cell_type": "code",
   "execution_count": 63,
   "metadata": {
    "colab": {
     "base_uri": "https://localhost:8080/",
     "height": 254
    },
    "colab_type": "code",
    "id": "-B8Q8hdPsFaU",
    "outputId": "14fa43df-79e7-4d5c-9a18-b7dc5b3a062e"
   },
   "outputs": [
    {
     "data": {
      "image/png": "[encoded data removed]",
      "text/plain": [
       "<Figure size 720x720 with 2 Axes>"
      ]
     },
     "metadata": {},
     "output_type": "display_data"
    },
    {
     "name": "stdout",
     "output_type": "stream",
     "text": [
      "Training Accuracy: 62.89333333333333 %\n",
      "Testing Accuracy: 62.739999999999995 %\n"
     ]
    }
   ],
   "source": [
    "\n",
    "cm = confusion_matrix(y_test, y_gmm_test)\n",
    "plt.figure(figsize=(10, 10))\n",
    "sns.heatmap(cm, annot=True, fmt=\"d\")\n",
    "plt.title(\"Confusion matrix\", fontsize=20)\n",
    "plt.ylabel('True label', fontsize=15)\n",
    "plt.xlabel('Clustering label', fontsize=15)\n",
    "plt.show()\n",
    "\n",
    "accuracy = accuracy_score(y_train, y_gmm_train)\n",
    "print('Training Accuracy: {} %'.format(accuracy*100))\n",
    "\n",
    "accuracy = accuracy_score(y_test, y_gmm_test)\n",
    "print('Testing Accuracy: {} %'.format(accuracy*100))"
   ]
  }
 ],
 "metadata": {
  "accelerator": "GPU",
  "colab": {
   "collapsed_sections": [],
   "name": "Copy of ML_project_3_final",
   "provenance": []
  },
  "kernelspec": {
   "display_name": "Python 3",
   "language": "python",
   "name": "python3"
  },
  "language_info": {
   "codemirror_mode": {
    "name": "ipython",
    "version": 3
   },
   "file_extension": ".py",
   "mimetype": "text/x-python",
   "name": "python",
   "nbconvert_exporter": "python",
   "pygments_lexer": "ipython3",
   "version": "3.6.5"
  }
 },
 "nbformat": 4,
 "nbformat_minor": 1
}
